{
 "cells": [
  {
   "cell_type": "code",
   "execution_count": 1,
   "id": "25cc19d3-cb9c-44f8-ada9-f2c2ef4dfc01",
   "metadata": {},
   "outputs": [],
   "source": [
    "import pandas as pd\n",
    "from helpers.text_preprocessing import en_tokenize, cz_tokenize\n",
    "from helpers.corpus_creation import build_vocab, interleave_tokens, simple_join_tokens, save_vocab, print_corpus_stats"
   ]
  },
  {
   "cell_type": "code",
   "execution_count": 2,
   "id": "70d452b3-6f96-4ea4-8b63-5b8104f06a87",
   "metadata": {},
   "outputs": [],
   "source": [
    "CORPUS_PATH = 'corpus/ufal/'"
   ]
  },
  {
   "cell_type": "code",
   "execution_count": 3,
   "id": "a58f44c6-720b-4ca1-8b91-4f7215be6343",
   "metadata": {},
   "outputs": [],
   "source": [
    "df = pd.read_csv(CORPUS_PATH + \"ufal.csv\")"
   ]
  },
  {
   "cell_type": "markdown",
   "id": "45cbd730",
   "metadata": {},
   "source": [
    "# Uložení cz a en tokenů"
   ]
  },
  {
   "cell_type": "code",
   "execution_count": 4,
   "id": "2d83b2a5",
   "metadata": {},
   "outputs": [
    {
     "data": {
      "text/plain": "      ID                                                 EN  \\\n0      0  Part-of-speech (POS) tagging is sometimes cons...   \n1      1  Sentiment analysis or automatic extraction of ...   \n2      2  Ignite talk on automatic detection of emotions...   \n3      3  If well trained, computers can count emotions ...   \n4      4  In this talk, we introduce the basic means of ...   \n..   ...                                                ...   \n236  236  We present a dataset of telephone conversation...   \n237  237  Vystadial 2013 ASR training scripts provides A...   \n238  238  Vystadial 2013 is a dataset of telephone conve...   \n239  239  Vystadial 2013 is a dataset of telephone conve...   \n240  240  Light verbs – representing a type of complex p...   \n\n                                                    CZ  \\\n0    Značkování slovními druhy (POS tagging) se v p...   \n1    Sentiment analysis neboli automatická extrakce...   \n2    Ignite talk na téma automatické detekce emocí,...   \n3    Pokud mají dostatek trénovacích dat, umějí str...   \n4    V přednášce si představíme základní prostředky...   \n..                                                 ...   \n236  Prezentujeme sadu nahrávek telefonních hovorů ...   \n237  Vystadial 2013 ASR trénovací skripty obsahují ...   \n238  Vystadial 2013 je databáze telefonních hovorů ...   \n239  Vystadial 2013 je databáze telefonních hovorů ...   \n240  Lehká\" slovesa představující určitý typ komple...   \n\n                                             EN_tokens  \\\n0    [po, tag, sometim, consid, almost, solv, probl...   \n1    [sentiment, analysi, automat, extract, subject...   \n2    [ignit, talk, automat, detect, emot, basic, ap...   \n3      [well, train, comput, count, emot, text, ironi]   \n4    [talk, introduc, basic, mean, express, emot, c...   \n..                                                 ...   \n236  [present, dataset, telephon, convers, english,...   \n237  [vystadi, asr, train, script, provid, asr, tra...   \n238  [vystadi, dataset, telephon, convers, czech, d...   \n239  [vystadi, dataset, telephon, convers, english,...   \n240  [light, verb, repres, type, complex, predic, p...   \n\n                                             CZ_tokens  \n0    [značkován, slovn, druh, pos, tagging, počítač...  \n1    [sentiment, analysis, nebol, automatick, extra...  \n2    [ignit, talk, tém, automatick, detekk, emoc, z...  \n3    [dostatek, trénovac, dat, uměj, stroj, rozpozn...  \n4    [přednášk, představím, základn, prostředk, emo...  \n..                                                 ...  \n236  [prezentujem, sad, nahrávek, telefonn, hovor, ...  \n237  [vystadial, asr, trénovac, skript, obsahuj, sk...  \n238  [vystadial, databáh, telefonn, hovor, česk, vy...  \n239  [vystadial, databáh, telefonn, hovor, anglic, ...  \n240  [lehk, sloves, představujíc, určit, typ, kompl...  \n\n[241 rows x 5 columns]",
      "text/html": "<div>\n<style scoped>\n    .dataframe tbody tr th:only-of-type {\n        vertical-align: middle;\n    }\n\n    .dataframe tbody tr th {\n        vertical-align: top;\n    }\n\n    .dataframe thead th {\n        text-align: right;\n    }\n</style>\n<table border=\"1\" class=\"dataframe\">\n  <thead>\n    <tr style=\"text-align: right;\">\n      <th></th>\n      <th>ID</th>\n      <th>EN</th>\n      <th>CZ</th>\n      <th>EN_tokens</th>\n      <th>CZ_tokens</th>\n    </tr>\n  </thead>\n  <tbody>\n    <tr>\n      <th>0</th>\n      <td>0</td>\n      <td>Part-of-speech (POS) tagging is sometimes cons...</td>\n      <td>Značkování slovními druhy (POS tagging) se v p...</td>\n      <td>[po, tag, sometim, consid, almost, solv, probl...</td>\n      <td>[značkován, slovn, druh, pos, tagging, počítač...</td>\n    </tr>\n    <tr>\n      <th>1</th>\n      <td>1</td>\n      <td>Sentiment analysis or automatic extraction of ...</td>\n      <td>Sentiment analysis neboli automatická extrakce...</td>\n      <td>[sentiment, analysi, automat, extract, subject...</td>\n      <td>[sentiment, analysis, nebol, automatick, extra...</td>\n    </tr>\n    <tr>\n      <th>2</th>\n      <td>2</td>\n      <td>Ignite talk on automatic detection of emotions...</td>\n      <td>Ignite talk na téma automatické detekce emocí,...</td>\n      <td>[ignit, talk, automat, detect, emot, basic, ap...</td>\n      <td>[ignit, talk, tém, automatick, detekk, emoc, z...</td>\n    </tr>\n    <tr>\n      <th>3</th>\n      <td>3</td>\n      <td>If well trained, computers can count emotions ...</td>\n      <td>Pokud mají dostatek trénovacích dat, umějí str...</td>\n      <td>[well, train, comput, count, emot, text, ironi]</td>\n      <td>[dostatek, trénovac, dat, uměj, stroj, rozpozn...</td>\n    </tr>\n    <tr>\n      <th>4</th>\n      <td>4</td>\n      <td>In this talk, we introduce the basic means of ...</td>\n      <td>V přednášce si představíme základní prostředky...</td>\n      <td>[talk, introduc, basic, mean, express, emot, c...</td>\n      <td>[přednášk, představím, základn, prostředk, emo...</td>\n    </tr>\n    <tr>\n      <th>...</th>\n      <td>...</td>\n      <td>...</td>\n      <td>...</td>\n      <td>...</td>\n      <td>...</td>\n    </tr>\n    <tr>\n      <th>236</th>\n      <td>236</td>\n      <td>We present a dataset of telephone conversation...</td>\n      <td>Prezentujeme sadu nahrávek telefonních hovorů ...</td>\n      <td>[present, dataset, telephon, convers, english,...</td>\n      <td>[prezentujem, sad, nahrávek, telefonn, hovor, ...</td>\n    </tr>\n    <tr>\n      <th>237</th>\n      <td>237</td>\n      <td>Vystadial 2013 ASR training scripts provides A...</td>\n      <td>Vystadial 2013 ASR trénovací skripty obsahují ...</td>\n      <td>[vystadi, asr, train, script, provid, asr, tra...</td>\n      <td>[vystadial, asr, trénovac, skript, obsahuj, sk...</td>\n    </tr>\n    <tr>\n      <th>238</th>\n      <td>238</td>\n      <td>Vystadial 2013 is a dataset of telephone conve...</td>\n      <td>Vystadial 2013 je databáze telefonních hovorů ...</td>\n      <td>[vystadi, dataset, telephon, convers, czech, d...</td>\n      <td>[vystadial, databáh, telefonn, hovor, česk, vy...</td>\n    </tr>\n    <tr>\n      <th>239</th>\n      <td>239</td>\n      <td>Vystadial 2013 is a dataset of telephone conve...</td>\n      <td>Vystadial 2013 je databáze telefonních hovorů ...</td>\n      <td>[vystadi, dataset, telephon, convers, english,...</td>\n      <td>[vystadial, databáh, telefonn, hovor, anglic, ...</td>\n    </tr>\n    <tr>\n      <th>240</th>\n      <td>240</td>\n      <td>Light verbs – representing a type of complex p...</td>\n      <td>Lehká\" slovesa představující určitý typ komple...</td>\n      <td>[light, verb, repres, type, complex, predic, p...</td>\n      <td>[lehk, sloves, představujíc, určit, typ, kompl...</td>\n    </tr>\n  </tbody>\n</table>\n<p>241 rows × 5 columns</p>\n</div>"
     },
     "execution_count": 4,
     "metadata": {},
     "output_type": "execute_result"
    }
   ],
   "source": [
    "df['EN_tokens'] = df['EN'].map(lambda x: en_tokenize(x))\n",
    "df['CZ_tokens'] = df['CZ'].map(lambda x: cz_tokenize(x))\n",
    "df"
   ]
  },
  {
   "cell_type": "code",
   "execution_count": 5,
   "id": "b7232197-a3fd-4e9e-91c8-9afd73ace4c2",
   "metadata": {},
   "outputs": [],
   "source": [
    "df.to_csv('with_tokens.csv')"
   ]
  },
  {
   "cell_type": "markdown",
   "id": "3a96c5eb",
   "metadata": {},
   "source": [
    "# Vytvoření slovníku"
   ]
  },
  {
   "cell_type": "code",
   "execution_count": 6,
   "id": "64444f41-f963-4ab6-b5ee-16f9e0609566",
   "metadata": {},
   "outputs": [],
   "source": [
    "vocab = build_vocab(df)"
   ]
  },
  {
   "cell_type": "code",
   "execution_count": 7,
   "id": "cd337020-1fed-4888-bb9c-e79307acc446",
   "metadata": {},
   "outputs": [],
   "source": [
    "save_vocab(vocab, CORPUS_PATH)"
   ]
  },
  {
   "cell_type": "code",
   "execution_count": 8,
   "outputs": [
    {
     "name": "stdout",
     "output_type": "stream",
     "text": [
      "Paragraphs counts: 241\n",
      "CZ tokens counts: 16396\n",
      "EN tokens counts: 10539\n",
      "Unique CZ tokens counts: 4364\n",
      "Unique EN tokens counts: 1827\n"
     ]
    }
   ],
   "source": [
    "print_corpus_stats(df, vocab)"
   ],
   "metadata": {
    "collapsed": false,
    "pycharm": {
     "name": "#%%\n"
    }
   }
  },
  {
   "cell_type": "code",
   "execution_count": 15,
   "outputs": [],
   "source": [
    "df.explode('EN_tokens')['EN_tokens'].value_counts().to_csv(CORPUS_PATH + 'en_freqs.csv')\n",
    "df.explode('CZ_tokens')['CZ_tokens'].value_counts().to_csv(CORPUS_PATH + 'cz_freqs.csv')"
   ],
   "metadata": {
    "collapsed": false,
    "pycharm": {
     "name": "#%%\n"
    }
   }
  },
  {
   "cell_type": "markdown",
   "id": "84324740-f8a6-47c0-a983-7fe83dccf116",
   "metadata": {},
   "source": [
    "# Vytvoření datasetu pro trénování w2v"
   ]
  },
  {
   "cell_type": "code",
   "execution_count": 13,
   "id": "bf12a866-cee4-4c88-ba26-406475de5f48",
   "metadata": {},
   "outputs": [
    {
     "data": {
      "text/plain": "0        [značkován, po, slovn, tag, druh, sometim, pos...\n1        [značkován, slovn, po, druh, tag, pos, sometim...\n2        [značkován, slovn, druh, po, pos, tag, tagging...\n3        [značkován, slovn, druh, pos, po, tagging, tag...\n4        [značkován, slovn, druh, pos, tagging, po, poč...\n                               ...                        \n11241    [lehk, sloves, představujíc, určit, typ, kompl...\n11242    [lehk, sloves, představujíc, určit, typ, kompl...\n11243    [lehk, sloves, představujíc, určit, typ, kompl...\n11244    [lehk, sloves, představujíc, určit, typ, kompl...\n11245    [lehk, sloves, představujíc, určit, typ, kompl...\nLength: 11246, dtype: object"
     },
     "execution_count": 13,
     "metadata": {},
     "output_type": "execute_result"
    }
   ],
   "source": [
    "interleaved = interleave_tokens(df)\n",
    "interleaved"
   ]
  },
  {
   "cell_type": "code",
   "execution_count": 14,
   "id": "b3341292-5bf5-4417-8a1d-448d9a1be04b",
   "metadata": {},
   "outputs": [],
   "source": [
    "interleaved.to_csv(CORPUS_PATH + \"interleaved.csv\")"
   ]
  },
  {
   "cell_type": "code",
   "execution_count": 25,
   "id": "1af23034-c0e8-4f49-93ce-1e66ae7ad95e",
   "metadata": {},
   "outputs": [
    {
     "data": {
      "text/plain": "                                                  data\n0    [značkován, slovn, druh, pos, tagging, počítač...\n1    [sentiment, analysis, nebol, automatick, extra...\n2    [ignit, talk, tém, automatick, detekk, emoc, z...\n3    [dostatek, trénovac, dat, uměj, stroj, rozpozn...\n4    [přednášk, představím, základn, prostředk, emo...\n..                                                 ...\n236  [prezentujem, sad, nahrávek, telefonn, hovor, ...\n237  [vystadial, asr, trénovac, skript, obsahuj, sk...\n238  [vystadial, databáh, telefonn, hovor, česk, vy...\n239  [vystadial, databáh, telefonn, hovor, anglic, ...\n240  [lehk, sloves, představujíc, určit, typ, kompl...\n\n[241 rows x 1 columns]",
      "text/html": "<div>\n<style scoped>\n    .dataframe tbody tr th:only-of-type {\n        vertical-align: middle;\n    }\n\n    .dataframe tbody tr th {\n        vertical-align: top;\n    }\n\n    .dataframe thead th {\n        text-align: right;\n    }\n</style>\n<table border=\"1\" class=\"dataframe\">\n  <thead>\n    <tr style=\"text-align: right;\">\n      <th></th>\n      <th>data</th>\n    </tr>\n  </thead>\n  <tbody>\n    <tr>\n      <th>0</th>\n      <td>[značkován, slovn, druh, pos, tagging, počítač...</td>\n    </tr>\n    <tr>\n      <th>1</th>\n      <td>[sentiment, analysis, nebol, automatick, extra...</td>\n    </tr>\n    <tr>\n      <th>2</th>\n      <td>[ignit, talk, tém, automatick, detekk, emoc, z...</td>\n    </tr>\n    <tr>\n      <th>3</th>\n      <td>[dostatek, trénovac, dat, uměj, stroj, rozpozn...</td>\n    </tr>\n    <tr>\n      <th>4</th>\n      <td>[přednášk, představím, základn, prostředk, emo...</td>\n    </tr>\n    <tr>\n      <th>...</th>\n      <td>...</td>\n    </tr>\n    <tr>\n      <th>236</th>\n      <td>[prezentujem, sad, nahrávek, telefonn, hovor, ...</td>\n    </tr>\n    <tr>\n      <th>237</th>\n      <td>[vystadial, asr, trénovac, skript, obsahuj, sk...</td>\n    </tr>\n    <tr>\n      <th>238</th>\n      <td>[vystadial, databáh, telefonn, hovor, česk, vy...</td>\n    </tr>\n    <tr>\n      <th>239</th>\n      <td>[vystadial, databáh, telefonn, hovor, anglic, ...</td>\n    </tr>\n    <tr>\n      <th>240</th>\n      <td>[lehk, sloves, představujíc, určit, typ, kompl...</td>\n    </tr>\n  </tbody>\n</table>\n<p>241 rows × 1 columns</p>\n</div>"
     },
     "execution_count": 25,
     "metadata": {},
     "output_type": "execute_result"
    }
   ],
   "source": [
    "simple_joined = simple_join_tokens(df)\n",
    "simple_joined"
   ]
  },
  {
   "cell_type": "code",
   "execution_count": null,
   "id": "e4231070-8dc2-4c10-8af2-c41eb8567517",
   "metadata": {
    "pycharm": {
     "name": "#%%\n",
     "is_executing": true
    }
   },
   "outputs": [],
   "source": [
    "simple_joined.to_csv(CORPUS_PATH + \"simple_joined.csv\")"
   ]
  }
 ],
 "metadata": {
  "kernelspec": {
   "display_name": "Python 3 (ipykernel)",
   "language": "python",
   "name": "python3"
  },
  "language_info": {
   "codemirror_mode": {
    "name": "ipython",
    "version": 3
   },
   "file_extension": ".py",
   "mimetype": "text/x-python",
   "name": "python",
   "nbconvert_exporter": "python",
   "pygments_lexer": "ipython3",
   "version": "3.9.7"
  }
 },
 "nbformat": 4,
 "nbformat_minor": 5
}